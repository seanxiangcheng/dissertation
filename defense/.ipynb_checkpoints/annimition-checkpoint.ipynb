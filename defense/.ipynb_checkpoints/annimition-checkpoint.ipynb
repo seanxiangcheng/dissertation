{
 "cells": [
  {
   "cell_type": "code",
   "execution_count": 3,
   "metadata": {
    "collapsed": false
   },
   "outputs": [],
   "source": [
    "import numpy as np\n",
    "from matplotlib import pyplot as plt\n",
    "import matplotlib\n",
    "from matplotlib import rc\n",
    "rc('text', usetex=True)\n",
    "\n",
    "%matplotlib inline  "
   ]
  },
  {
   "cell_type": "code",
   "execution_count": 97,
   "metadata": {
    "collapsed": false
   },
   "outputs": [
    {
     "data": {
      "text/plain": [
       "array([  1.50000000e-05,   3.10000000e-05,   6.10000000e-05,\n",
       "         1.20000000e-04,   2.40000000e-04,   4.90000000e-04,\n",
       "         9.80000000e-04,   2.00000000e-03,   3.90000000e-03,\n",
       "         7.80000000e-03,   1.60000000e-02,   3.10000000e-02,\n",
       "         6.20000000e-02,   1.20000000e-01,   2.50000000e-01,\n",
       "         5.00000000e-01,   1.00000000e+00])"
      ]
     },
     "execution_count": 97,
     "metadata": {},
     "output_type": "execute_result"
    }
   ],
   "source": [
    "np.unique(hf[:, 0])"
   ]
  },
  {
   "cell_type": "code",
   "execution_count": 96,
   "metadata": {
    "collapsed": false
   },
   "outputs": [],
   "source": [
    "hfile = 'anni_data_jam_H'\n",
    "ffile = 'anni_data_jam_f'\n",
    "hd = np.loadtxt(hfile, delimiter=',')\n",
    "hf = np.loadtxt(ffile, delimiter=',')"
   ]
  },
  {
   "cell_type": "code",
   "execution_count": 103,
   "metadata": {
    "collapsed": false
   },
   "outputs": [
    {
     "data": {
      "image/png": "[encoded data removed]",
      "text/plain": [
       "<matplotlib.figure.Figure at 0x7f97b0d08650>"
      ]
     },
     "metadata": {},
     "output_type": "display_data"
    }
   ],
   "source": [
    "i=1\n",
    "plt.figure(figsize=(10, 4))\n",
    "ax = plt.subplot(2,1,1)\n",
    "plt.subplot(121)\n",
    "plt.plot(range(hd.shape[1]-1), [0]*(hd.shape[1]-1), '--o', linewidth=2, markersize=10)\n",
    "ylim = 10**len(str(int(max(hf[i, 1:]))))\n",
    "plt.xlim([-0.2, 5.2])\n",
    "plt.ylim([0, ylim])\n",
    "plt.tick_params(axis='both', which='major', labelsize=16)\n",
    "plt.ylabel('$\\log(g_n)$', fontsize=28)\n",
    "plt.xlabel('$n$', fontsize=28)\n",
    "plt.title('step = 0', fontsize=20)\n",
    "\n",
    "plt.subplot(122)\n",
    "plt.plot(range(hd.shape[1]-1), [0]*(hd.shape[1]-1), '--o', linewidth=2, markersize=10)\n",
    "ylim = 10**len(str(int(max(hd[i, 1:]))))\n",
    "plt.xlim([-0.2, 5.2])\n",
    "plt.ylim([0, ylim])\n",
    "plt.tick_params(axis='both', which='major', labelsize=16)\n",
    "plt.ylabel('$H_n$', fontsize=28)\n",
    "plt.xlabel('$n$', fontsize=28)\n",
    "plt.title('step = 0', fontsize=20)\n",
    "\n",
    "plt.text(0.8, 0.8, 'abc')\n",
    "plt.tight_layout()\n",
    "plt.savefig('./gif/t_0.png', dpi=80)"
   ]
  },
  {
   "cell_type": "code",
   "execution_count": 85,
   "metadata": {
    "collapsed": false
   },
   "outputs": [],
   "source": [
    "def ploti(i):\n",
    "    plt.figure(figsize=(10, 4))\n",
    "    plt.subplot(121)\n",
    "    plt.plot(range(hd.shape[1]-1), hf[i, 1:], '--o', linewidth=2, markersize=10)\n",
    "    ylim = 10**len(str(int(max(hf[i, 1:]))))\n",
    "    plt.xlim([-0.2, 5.2])\n",
    "    plt.ylim([0, ylim])\n",
    "    plt.tick_params(axis='both', which='major', labelsize=16)\n",
    "    plt.ylabel('$\\log(g_n)$', fontsize=28)\n",
    "    plt.xlabel('$n$', fontsize=28)\n",
    "    plt.title('step = '+str(int(i)+1), fontsize=20)\n",
    "\n",
    "    plt.subplot(122)\n",
    "    plt.plot(range(hd.shape[1]-1), hd[i, 1:], '--o', linewidth=2, markersize=10)\n",
    "    ylim = 10**len(str(int(max(hd[i, 1:]))))\n",
    "    plt.xlim([-0.2, 5.2])\n",
    "    plt.ylim([0, ylim])\n",
    "    plt.tick_params(axis='both', which='major', labelsize=16)\n",
    "    plt.ylabel('$H_n$', fontsize=28)\n",
    "    plt.xlabel('$n$', fontsize=28)\n",
    "    plt.title('step = '+str(int(i)+1), fontsize=20)\n",
    "    plt.tight_layout()\n",
    "    plt.savefig('./gif/t_'+str(i+1)+'.png', dpi=80)\n",
    "    plt.close()"
   ]
  },
  {
   "cell_type": "code",
   "execution_count": 93,
   "metadata": {
    "collapsed": false
   },
   "outputs": [],
   "source": [
    "for i in range(25):\n",
    "    ploti(i)"
   ]
  },
  {
   "cell_type": "code",
   "execution_count": 95,
   "metadata": {
    "collapsed": false
   },
   "outputs": [],
   "source": [
    "inds = []\n",
    "for i in range(10, hf.shape[0]):\n",
    "    if hf[i-1, 1]!=0.0 and hf[i, 1]==0:\n",
    "        inds.append(i)\n",
    "\n",
    "for ind in inds[:5]:\n",
    "    ploti(ind-1)\n",
    "    for i in range(20):\n",
    "        ploti(ind+i)"
   ]
  },
  {
   "cell_type": "code",
   "execution_count": 63,
   "metadata": {
    "collapsed": false
   },
   "outputs": [
    {
     "data": {
      "text/plain": [
       "4802"
      ]
     },
     "execution_count": 63,
     "metadata": {},
     "output_type": "execute_result"
    }
   ],
   "source": [
    "(hf[:, 1]==0).sum()"
   ]
  },
  {
   "cell_type": "code",
   "execution_count": 69,
   "metadata": {
    "collapsed": false
   },
   "outputs": [],
   "source": []
  },
  {
   "cell_type": "code",
   "execution_count": 70,
   "metadata": {
    "collapsed": false
   },
   "outputs": [
    {
     "data": {
      "text/plain": [
       "[46981,\n",
       " 93989,\n",
       " 188480,\n",
       " 235528,\n",
       " 282495,\n",
       " 329876,\n",
       " 378085,\n",
       " 428180,\n",
       " 527712,\n",
       " 577439,\n",
       " 627591,\n",
       " 677663,\n",
       " 727703,\n",
       " 777674,\n",
       " 827679,\n",
       " 877313,\n",
       " 977015,\n",
       " 1077110,\n",
       " 1126739,\n",
       " 1176748,\n",
       " 1275763,\n",
       " 1326925,\n",
       " 1377062]"
      ]
     },
     "execution_count": 70,
     "metadata": {},
     "output_type": "execute_result"
    }
   ],
   "source": [
    "for "
   ]
  },
  {
   "cell_type": "code",
   "execution_count": 68,
   "metadata": {
    "collapsed": false
   },
   "outputs": [
    {
     "data": {
      "text/plain": [
       "[1]"
      ]
     },
     "execution_count": 68,
     "metadata": {},
     "output_type": "execute_result"
    }
   ],
   "source": [
    "inds"
   ]
  },
  {
   "cell_type": "code",
   "execution_count": null,
   "metadata": {
    "collapsed": true
   },
   "outputs": [],
   "source": []
  }
 ],
 "metadata": {
  "kernelspec": {
   "display_name": "Python 2",
   "language": "python",
   "name": "python2"
  },
  "language_info": {
   "codemirror_mode": {
    "name": "ipython",
    "version": 2
   },
   "file_extension": ".py",
   "mimetype": "text/x-python",
   "name": "python",
   "nbconvert_exporter": "python",
   "pygments_lexer": "ipython2",
   "version": "2.7.11"
  }
 },
 "nbformat": 4,
 "nbformat_minor": 0
}
