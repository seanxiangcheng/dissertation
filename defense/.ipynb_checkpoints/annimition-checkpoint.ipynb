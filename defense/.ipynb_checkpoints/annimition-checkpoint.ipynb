{
 "cells": [
  {
   "cell_type": "code",
   "execution_count": 1,
   "metadata": {
    "collapsed": false
   },
   "outputs": [
    {
     "name": "stderr",
     "output_type": "stream",
     "text": [
      "/home/xcheng0907/anaconda/lib/python2.7/site-packages/matplotlib/font_manager.py:273: UserWarning: Matplotlib is building the font cache using fc-list. This may take a moment.\n",
      "  warnings.warn('Matplotlib is building the font cache using fc-list. This may take a moment.')\n"
     ]
    }
   ],
   "source": [
    "import numpy as np\n",
    "from matplotlib import pyplot as plt\n",
    "import matplotlib\n",
    "from matplotlib import rc\n",
    "rc('text', usetex=True)\n",
    "\n",
    "%matplotlib inline  "
   ]
  },
  {
   "cell_type": "markdown",
   "metadata": {
    "collapsed": false
   },
   "source": [
    "## experimental results"
   ]
  },
  {
   "cell_type": "code",
   "execution_count": 7,
   "metadata": {
    "collapsed": false
   },
   "outputs": [
    {
     "data": {
      "text/plain": [
       "[<matplotlib.lines.Line2D at 0x7f804df4e550>]"
      ]
     },
     "execution_count": 7,
     "metadata": {},
     "output_type": "execute_result"
    },
    {
     "data": {
      "image/png": "[encoded data removed]",
      "text/plain": [
       "<matplotlib.figure.Figure at 0x7f804e192ad0>"
      ]
     },
     "metadata": {},
     "output_type": "display_data"
    }
   ],
   "source": [
    "T1s = [5, 25, 50, 75, 100, 125, 150]\n",
    "T2s = [200, 210, 220, 230, 240, 245, 250]\n",
    "c1s = [0.097, 0.15, 0.126, 0.123, 0.1257, 0.176, 0.22]\n",
    "c2s = [0.11, 0.095, 0.17, 0.27, 0.45, .29, 0.32]\n",
    "\n",
    "plt.figure(figsize=(8, 3))\n",
    "plt.subplot(121)\n",
    "plt.plot(T1s, c1s, '-or')\n",
    "plt.xlim([0, 160])\n",
    "plt.ylim([0.08, ])\n",
    "plt.tick_params(axis='both', which='major', labelsize=16)\n",
    "plt.ylabel('$\\log(g_n)$', fontsize=28)\n",
    "plt.xlabel('$n$', fontsize=28)\n",
    "plt.title('step = 0', fontsize=20)\n",
    "plt.text(0.05, ylim*0.8, '$\\log(f)=%.2f$' % 1.0, fontsize=24)\n",
    "\n",
    "\n",
    "\n",
    "plt.subplot(122)\n",
    "plt.plot(T2s, c2s, '-or')"
   ]
  },
  {
   "cell_type": "code",
   "execution_count": 96,
   "metadata": {
    "collapsed": false
   },
   "outputs": [],
   "source": [
    "hfile = 'anni_data_jam_H'\n",
    "ffile = 'anni_data_jam_f'\n",
    "hd = np.loadtxt(hfile, delimiter=',')\n",
    "hf = np.loadtxt(ffile, delimiter=',')"
   ]
  },
  {
   "cell_type": "code",
   "execution_count": 119,
   "metadata": {
    "collapsed": false
   },
   "outputs": [
    {
     "data": {
      "image/png": "[encoded data removed]",
      "text/plain": [
       "<matplotlib.figure.Figure at 0x7f97b2bc7890>"
      ]
     },
     "metadata": {},
     "output_type": "display_data"
    }
   ],
   "source": [
    "i=1\n",
    "plt.figure(figsize=(10, 4))\n",
    "ax = plt.subplot(2,1,1)\n",
    "plt.subplot(121)\n",
    "plt.plot(range(hd.shape[1]-1), [0]*(hd.shape[1]-1), '--o', linewidth=2, markersize=10)\n",
    "ylim = 10**len(str(int(max(hf[i, 1:]))))\n",
    "plt.xlim([-0.2, 5.2])\n",
    "plt.ylim([0, ylim])\n",
    "plt.tick_params(axis='both', which='major', labelsize=16)\n",
    "plt.ylabel('$\\log(g_n)$', fontsize=28)\n",
    "plt.xlabel('$n$', fontsize=28)\n",
    "plt.title('step = 0', fontsize=20)\n",
    "plt.text(0.05, ylim*0.8, '$\\log(f)=%.2f$' % 1.0, fontsize=24)\n",
    "\n",
    "\n",
    "plt.subplot(122)\n",
    "plt.plot(range(hd.shape[1]-1), [0]*(hd.shape[1]-1), '--o', linewidth=2, markersize=10)\n",
    "ylim = 10**len(str(int(max(hd[i, 1:]))))\n",
    "plt.xlim([-0.2, 5.2])\n",
    "plt.ylim([0, ylim])\n",
    "plt.tick_params(axis='both', which='major', labelsize=16)\n",
    "plt.ylabel('$H_n$', fontsize=28)\n",
    "plt.xlabel('$n$', fontsize=28)\n",
    "plt.title('step = 0', fontsize=20)\n",
    "\n",
    "plt.text(0.8, 0.8, 'abc')\n",
    "plt.tight_layout()\n",
    "plt.savefig('./gif/t_0.png', dpi=80)"
   ]
  },
  {
   "cell_type": "code",
   "execution_count": 120,
   "metadata": {
    "collapsed": false
   },
   "outputs": [],
   "source": [
    "def ploti(i):\n",
    "    plt.figure(figsize=(10, 4))\n",
    "    plt.subplot(121)\n",
    "    plt.plot(range(hd.shape[1]-1), hf[i, 1:], '--o', linewidth=2, markersize=10)\n",
    "    ylim = 10**len(str(int(max(hf[i, 1:]))))\n",
    "    plt.xlim([-0.2, 5.2])\n",
    "    plt.ylim([0, ylim])\n",
    "    plt.tick_params(axis='both', which='major', labelsize=16)\n",
    "    plt.ylabel('$\\log(g_n)$', fontsize=28)\n",
    "    plt.xlabel('$n$', fontsize=28)\n",
    "    plt.title('step = '+str(int(i)+1), fontsize=20)\n",
    "    plt.text(0.05, ylim*0.8, '$\\log(f)=%.2f$' % hf[i, 0], fontsize=24)\n",
    "\n",
    "\n",
    "    plt.subplot(122)\n",
    "    plt.plot(range(hd.shape[1]-1), hd[i, 1:], '--o', linewidth=2, markersize=10)\n",
    "    ylim = 10**len(str(int(max(hd[i, 1:]))))\n",
    "    plt.xlim([-0.2, 5.2])\n",
    "    plt.ylim([0, ylim])\n",
    "    plt.tick_params(axis='both', which='major', labelsize=16)\n",
    "    plt.ylabel('$H_n$', fontsize=28)\n",
    "    plt.xlabel('$n$', fontsize=28)\n",
    "    plt.title('step = '+str(int(i)+1), fontsize=20)\n",
    "    plt.tight_layout()\n",
    "    plt.savefig('./gif/t_'+str(i+1)+'.png', dpi=80)\n",
    "    plt.close()"
   ]
  },
  {
   "cell_type": "code",
   "execution_count": 121,
   "metadata": {
    "collapsed": false
   },
   "outputs": [],
   "source": [
    "for i in range(25):\n",
    "    ploti(i)"
   ]
  },
  {
   "cell_type": "code",
   "execution_count": 122,
   "metadata": {
    "collapsed": false
   },
   "outputs": [],
   "source": [
    "inds = []\n",
    "for i in range(10, hf.shape[0]):\n",
    "    if hf[i-1, 1]!=0.0 and hf[i, 1]==0:\n",
    "        inds.append(i)\n",
    "\n",
    "for ind in inds[:5]:\n",
    "    ploti(ind-1)\n",
    "    for i in range(20):\n",
    "        ploti(ind+i)"
   ]
  },
  {
   "cell_type": "code",
   "execution_count": 69,
   "metadata": {
    "collapsed": false
   },
   "outputs": [],
   "source": []
  },
  {
   "cell_type": "code",
   "execution_count": 70,
   "metadata": {
    "collapsed": false
   },
   "outputs": [
    {
     "data": {
      "text/plain": [
       "[46981,\n",
       " 93989,\n",
       " 188480,\n",
       " 235528,\n",
       " 282495,\n",
       " 329876,\n",
       " 378085,\n",
       " 428180,\n",
       " 527712,\n",
       " 577439,\n",
       " 627591,\n",
       " 677663,\n",
       " 727703,\n",
       " 777674,\n",
       " 827679,\n",
       " 877313,\n",
       " 977015,\n",
       " 1077110,\n",
       " 1126739,\n",
       " 1176748,\n",
       " 1275763,\n",
       " 1326925,\n",
       " 1377062]"
      ]
     },
     "execution_count": 70,
     "metadata": {},
     "output_type": "execute_result"
    }
   ],
   "source": [
    "for "
   ]
  },
  {
   "cell_type": "code",
   "execution_count": 68,
   "metadata": {
    "collapsed": false
   },
   "outputs": [
    {
     "data": {
      "text/plain": [
       "[1]"
      ]
     },
     "execution_count": 68,
     "metadata": {},
     "output_type": "execute_result"
    }
   ],
   "source": [
    "inds"
   ]
  },
  {
   "cell_type": "code",
   "execution_count": null,
   "metadata": {
    "collapsed": true
   },
   "outputs": [],
   "source": []
  }
 ],
 "metadata": {
  "kernelspec": {
   "display_name": "Python 2",
   "language": "python",
   "name": "python2"
  },
  "language_info": {
   "codemirror_mode": {
    "name": "ipython",
    "version": 2
   },
   "file_extension": ".py",
   "mimetype": "text/x-python",
   "name": "python",
   "nbconvert_exporter": "python",
   "pygments_lexer": "ipython2",
   "version": "2.7.11"
  }
 },
 "nbformat": 4,
 "nbformat_minor": 0
}
